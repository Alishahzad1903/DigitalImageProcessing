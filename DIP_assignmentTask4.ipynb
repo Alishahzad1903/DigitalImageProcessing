{
 "cells": [
  {
   "cell_type": "code",
   "execution_count": 3,
   "id": "d65d0444",
   "metadata": {},
   "outputs": [],
   "source": [
    "import cv2\n",
    "\n",
    "# Read the image\n",
    "image = cv2.imread('Coin.jpeg')"
   ]
  },
  {
   "cell_type": "code",
   "execution_count": 4,
   "id": "f30deeea",
   "metadata": {},
   "outputs": [
    {
     "data": {
      "text/plain": [
       "True"
      ]
     },
     "execution_count": 4,
     "metadata": {},
     "output_type": "execute_result"
    }
   ],
   "source": [
    "# Convert to grayscale\n",
    "gray = cv2.cvtColor(image, cv2.COLOR_BGR2GRAY)\n"
   ]
  },
  {
   "cell_type": "code",
   "execution_count": 12,
   "id": "e5d25a42",
   "metadata": {},
   "outputs": [
    {
     "data": {
      "text/plain": [
       "True"
      ]
     },
     "execution_count": 12,
     "metadata": {},
     "output_type": "execute_result"
    }
   ],
   "source": [
    "# Apply Gaussian blur to reduce noise\n",
    "blurred = cv2.GaussianBlur(gray, (11, 11), 0)\n"
   ]
  },
  {
   "cell_type": "code",
   "execution_count": 17,
   "id": "42ebc2f7",
   "metadata": {},
   "outputs": [
    {
     "data": {
      "text/plain": [
       "True"
      ]
     },
     "execution_count": 17,
     "metadata": {},
     "output_type": "execute_result"
    }
   ],
   "source": [
    "# Convert to binary image using proper threshold\n",
    "ret, thresh = cv2.threshold(blurred, 150, 255, cv2.THRESH_BINARY)\n"
   ]
  },
  {
   "cell_type": "code",
   "execution_count": 19,
   "id": "20ce3e86",
   "metadata": {},
   "outputs": [],
   "source": [
    "# Use canny edge detection for identify edges\n",
    "edges = cv2.Canny(thresh, 0, 100)"
   ]
  },
  {
   "cell_type": "code",
   "execution_count": 20,
   "id": "8336b057",
   "metadata": {},
   "outputs": [],
   "source": [
    "# Find all contours using edges\n",
    "contours, _ = cv2.findContours(edges.copy(), cv2.RETR_EXTERNAL, cv2.CHAIN_APPROX_SIMPLE)"
   ]
  },
  {
   "cell_type": "code",
   "execution_count": 21,
   "id": "c2606b28",
   "metadata": {},
   "outputs": [],
   "source": [
    "# Intialize coin count\n",
    "coin_count = 0\n",
    "\n",
    "# Iterate through contours and draw them on original image\n",
    "for contour in contours:\n",
    "    if cv2.contourArea(contour) > 50:\n",
    "        cv2.drawContours(image, [contour], -1, (0, 255, 0), 2)\n",
    "        coin_count += 1\n"
   ]
  },
  {
   "cell_type": "code",
   "execution_count": null,
   "id": "bd61cb42",
   "metadata": {},
   "outputs": [
    {
     "name": "stdout",
     "output_type": "stream",
     "text": [
      "Number of coins detected:  8\n"
     ]
    }
   ],
   "source": [
    "cv2.imshow('Segmented Coins', image)\n",
    "print(\"Number of coins detected: \",coin_count)\n",
    "cv2.waitKey(0)\n",
    "cv2.destroyAllWindows()"
   ]
  },
  {
   "cell_type": "code",
   "execution_count": null,
   "id": "1d787be7",
   "metadata": {},
   "outputs": [],
   "source": []
  }
 ],
 "metadata": {
  "kernelspec": {
   "display_name": "Python 3 (ipykernel)",
   "language": "python",
   "name": "python3"
  },
  "language_info": {
   "codemirror_mode": {
    "name": "ipython",
    "version": 3
   },
   "file_extension": ".py",
   "mimetype": "text/x-python",
   "name": "python",
   "nbconvert_exporter": "python",
   "pygments_lexer": "ipython3",
   "version": "3.10.9"
  }
 },
 "nbformat": 4,
 "nbformat_minor": 5
}
