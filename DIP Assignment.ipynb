{
 "cells": [
  {
   "cell_type": "code",
   "execution_count": 1,
   "id": "7a322da2",
   "metadata": {},
   "outputs": [],
   "source": [
    "import cv2\n"
   ]
  },
  {
   "cell_type": "code",
   "execution_count": 2,
   "id": "1a9880b8",
   "metadata": {},
   "outputs": [],
   "source": [
    "image=cv2.imread('PracticeImage.jpg')"
   ]
  },
  {
   "cell_type": "code",
   "execution_count": 5,
   "id": "bd2cd58c",
   "metadata": {},
   "outputs": [],
   "source": [
    "cv2.imshow('Image',image)"
   ]
  },
  {
   "cell_type": "code",
   "execution_count": 6,
   "id": "5fee3823",
   "metadata": {},
   "outputs": [],
   "source": [
    "cv2.destroyAllWindows() #close the image window\n"
   ]
  },
  {
   "cell_type": "code",
   "execution_count": 7,
   "id": "24ba6f7f",
   "metadata": {},
   "outputs": [
    {
     "name": "stdout",
     "output_type": "stream",
     "text": [
      "Image Width is 5196\n",
      "Image Height is 3464\n"
     ]
    }
   ],
   "source": [
    "print('Image Width is',image.shape[1])\n",
    "print('Image Height is',image.shape[0])"
   ]
  },
  {
   "cell_type": "code",
   "execution_count": 8,
   "id": "dd1d63f9",
   "metadata": {},
   "outputs": [],
   "source": [
    "newimage=cv2.resize(image,(256,256))"
   ]
  },
  {
   "cell_type": "code",
   "execution_count": 9,
   "id": "c72025d6",
   "metadata": {},
   "outputs": [
    {
     "data": {
      "text/plain": [
       "True"
      ]
     },
     "execution_count": 9,
     "metadata": {},
     "output_type": "execute_result"
    }
   ],
   "source": [
    "cv2.imwrite(\"PracticeEdited.jpg\",newimage)#converting the image to 256x256 resolution"
   ]
  },
  {
   "cell_type": "code",
   "execution_count": 10,
   "id": "42b45f59",
   "metadata": {},
   "outputs": [],
   "source": [
    "gray_image = cv2.cvtColor(image, cv2.COLOR_BGR2GRAY)"
   ]
  },
  {
   "cell_type": "code",
   "execution_count": 12,
   "id": "05043c60",
   "metadata": {},
   "outputs": [
    {
     "data": {
      "text/plain": [
       "True"
      ]
     },
     "execution_count": 12,
     "metadata": {},
     "output_type": "execute_result"
    }
   ],
   "source": [
    "cv2.imwrite(\"GreyImage.jpg\",gray_image)#converting the image into grayscale from rgb"
   ]
  },
  {
   "cell_type": "code",
   "execution_count": 13,
   "id": "571ef75b",
   "metadata": {},
   "outputs": [],
   "source": [
    "ret, thresh = cv2.threshold(gray_image, 70, 255, 0)\n"
   ]
  },
  {
   "cell_type": "code",
   "execution_count": 14,
   "id": "24dfe2b0",
   "metadata": {},
   "outputs": [
    {
     "data": {
      "text/plain": [
       "True"
      ]
     },
     "execution_count": 14,
     "metadata": {},
     "output_type": "execute_result"
    }
   ],
   "source": [
    "cv2.imwrite(\"BinaryImage.jpg\",thresh)#converting the image to binary from rgb"
   ]
  },
  {
   "cell_type": "code",
   "execution_count": null,
   "id": "7eb4f7f5",
   "metadata": {},
   "outputs": [],
   "source": []
  }
 ],
 "metadata": {
  "kernelspec": {
   "display_name": "Python 3 (ipykernel)",
   "language": "python",
   "name": "python3"
  },
  "language_info": {
   "codemirror_mode": {
    "name": "ipython",
    "version": 3
   },
   "file_extension": ".py",
   "mimetype": "text/x-python",
   "name": "python",
   "nbconvert_exporter": "python",
   "pygments_lexer": "ipython3",
   "version": "3.10.9"
  }
 },
 "nbformat": 4,
 "nbformat_minor": 5
}
